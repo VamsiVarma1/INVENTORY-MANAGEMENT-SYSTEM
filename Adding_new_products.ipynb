Adding new item to the inventory

prod_id=input("Enter the Product Id:")
name=input("Enter the name of the Product:")
price=int(input("Enter the Price per Item:"))
quantity=int(input("Enter the Quantity of the poduct :"))
brand=str(input("Enter the brand of the Product:"))
expirydate=input("Enter the Expiry date of the Product :")
products[prod_id]={"name":name,"price":price,"quantity":quantity,"brand":brand,"expirydate":expirydate}
js=json.dumps(products)
fd=open("products.json",'w')
fd.write(js)
fd.close()