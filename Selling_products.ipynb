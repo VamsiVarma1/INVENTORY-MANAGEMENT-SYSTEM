Selling Products


import json
fd=open("products.json",'r')
r=fd.read()
fd.close()
products=json.loads(r)
print("welcome to shop")
ui_prod = input("Enter the product_ID:")
ui_quantity = int(input("Enter the quantity of the product:"))
for i in products.keys():
  while ui_prod == i:
    if ui_quantity <= products[i]["quantity"]:
    
      print("***********************************************************")
      print("                 product:",products[ui_prod]['name'])
      print("                   price:",products[ui_prod]['price'])
      print("                   brand:",products[ui_prod]['brand'])
      print("              expiry date:",products[ui_prod]['expiry date'])
      print("***********************************************************")
      print("------------------BILLING DETAILS:--------------")
      print("Total Amount:",products[ui_prod]['price']*ui_quantity)
      print("Enjoy Your Day")
      print("Thank you .Visit Again")
      print("***********************************************************")
      products[ui_prod]["quantity"]= products[ui_prod]["quantity"]-ui_quantity
    else:
      print("sorry. stock of product you entered is: ",products[ui_prod]['quantity'],"\nplease accept our apologies for this inconvenience")
    break 
if ui_prod not in products.keys():
  print("sorry. No product found for ID: ",ui_prod,"\please enter valid product ID")
js=json.dumps(products)
fd=open("products.json",'w')
fd.write(js)
fd.close()
##  the sold items information is stored on sales.json
fd=open("products.json",'r')
trans=fd.read()
fd.close()
sales=json.loads(trans)
num=len(sales)+1
sales[num]={'prod':ui_prod,'quantity':ui_quantity,'amount':products[ui_prod]['price']*ui_quantity}
sale=json.dumps(sales)
fd=open("products.json",'w')
r=fd.write(sale)
fd.close()

