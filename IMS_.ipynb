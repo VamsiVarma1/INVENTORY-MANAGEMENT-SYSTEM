{
  "nbformat": 4,
  "nbformat_minor": 0,
  "metadata": {
    "colab": {
      "name": "IMS .ipynb",
      "provenance": [],
      "collapsed_sections": []
    },
    "kernelspec": {
      "name": "python3",
      "display_name": "Python 3"
    },
    "language_info": {
      "name": "python"
    }
  },
  "cells": [
    {
      "cell_type": "code",
      "metadata": {
        "id": "c9TcGr0znMee"
      },
      "source": [
        "products={\n",
        "    1001:{\"name\":\"choco cake\",\"price\":100,\"quantity\":34,\"brand\":\"amul\",\"expiry date\":\"16 dec 2021\"}, \n",
        "    1002:{\"name\":\"milk cake\",\"price\":800,\"quantity\":100,\"brand\":\"amul\",\"expiry date\":\"26 jan 2022\"},\n",
        "    1003:{\"name\":\"drink\",\"price\":85,\"quantity\":100,\"brand\":\"coco cola\",\"expiry date\":\"12 june 2022\"},\n",
        "    1004:{\"name\":\"candy\",\"price\":5,\"quantity\":1000,\"brand\":\"parle\",\"expiry date\":\"2 dec 2021\"},\n",
        "    1005:{\"name\":\"pen\",\"price\":20,\"quantity\":100,\"brand\":\"natraj\",\"expiry date\":\"5 june 2023\"},\n",
        "    1006:{\"name\":\"phone\",\"price\":50000,\"quantity\":10,\"brand\":\"mi\",\"expiry date\":\"16 may 2035\"},\n",
        "    1007:{\"name\":\"mic\",\"price\":1500,\"quantity\":10,\"brand\":\"alpha\",\"expiry date\":\"26 oct 2028\"},\n",
        "    1008:{\"name\":\"case\",\"price\":599,\"quantity\":5,\"brand\":\"one\",\"expiry date\":\"6 nov 2023\"},\n",
        "    1009:{\"name\":\"keyboard\",\"price\":1999,\"quantity\":10,\"brand\":\"logitech\",\"expiry date\":\"16 dec 2027\"},\n",
        "    1010:{\"name\":\"pepsi can\",\"price\":150,\"quantity\":50,\"brand\":\"pepsi\",\"expiry date\":\"16 oct 2023\"},\n",
        "    1011:{\"name\":\"tata salt\",\"price\":20,\"quantity\":130,\"brand\":\"tata\",\"expiry date\":\"11 oct 2021\"},\n",
        "    1012:{\"name\":\"tumeric powder\",\"price\":60,\"quantity\":145,\"brand\":\"asha\",\"expiry date\":\"10 may 2022\"},\n",
        "    1013:{\"name\":\"tata tea gold\",\"price\":50,\"quantity\":145,\"brand\":\"tata\",\"expiry date\":\"10 dec 2021\"},\n",
        "    1014:{\"name\":\"oats\",\"price\":285,\"quantity\":30,\"brand\":\"wipro\",\"expiry date\":\"30 dec 2022\"},\n",
        "    1015:{\"name\":\"saffola active\",\"price\":207,\"quantity\":58,\"brand\":\"safolla\",\"expiry date\":\"29 jan 2023\"},\n",
        "    1016:{\"name\":\"kitkat\",\"price\":55,\"quantity\":59,\"brand\":\"nestle\",\"expiry date\":\"16-10-2022\"},\n",
        "    1017:{\"name\":\"choco fills\",\"price\":90,\"quantity\":90,\"brand\":\"dark fantasy\",\"expiry date\":\"21 feb 2022\"},\n",
        "    1018:{\"name\":\"candyman fantasy\",\"price\":80,\"quantity\":95,\"brand\":\"candyman\",\"expiry date\":\"28 dec 2021\"},\n",
        "    1019:{\"name\":\"choco pie\",\"price\":110,\"quantity\":95,\"brand\":\"lotte\",\"expiry date\":\"1 jan 2022\"},\n",
        "    1020:{\"name\":\"britania cake\",\"price\":120,\"quantity\":100,\"brand\":\"britania\",\"expiry date\":\"15 july 2022\"},\n",
        "    1021:{\"name\":\"pillisbury cookies\",\"price\":80,\"quantity\":95,\"brand\":\"pillisbury\",\"expiry date\":\"30 dec 2021\"},\n",
        "    1022:{\"name\":\"oreo soft cake\",\"price\":249,\"quantity\":120,\"brand\":\"oreo\",\"expiry date\":\"28 dec 2021\"},\n",
        "    1023:{\"name\":\"cashew\",\"price\":80,\"quantity\":180,\"brand\":\"sunfeast\",\"expiry date\":\"19 dec 2022\"},\n",
        "    1024:{\"name\":\"oreo chocolate\",\"price\":60,\"quantity\":185,\"brand\":\"oreo\",\"expiry date\":\"2 jan 2022\"},\n",
        "    1025:{\"name\":\"pancake\",\"price\":346,\"quantity\":190,\"brand\":\"betty\",\"expiry date\":\"28 jan 2022\"},\n",
        "    1026:{\"name\":\"chips\",\"price\":20,\"quantity\":100,\"brand\":\"lays\",\"expiry date\":\"28 dec 2021\"},\n",
        "    1027:{\"name\":\" bingo-madangles\",\"price\":20,\"quantity\":95,\"brand\":\"bingo\",\"expiry date\":\"28 dec 2021\"},\n",
        "    1028:{\"name\":\"pringles\",\"price\":85,\"quantity\":40,\"brand\":\"kellogs\",\"expiry date\":\"8 nov 2021\"},\n",
        "    1029:{\"name\":\"axe-perfume\",\"price\":555,\"quantity\":230,\"brand\":\"axe\",\"expiry date\":\"31 may 2023\"},\n",
        "    1030:{\"name\":\"dairy milk silk\",\"price\":475,\"quantity\":50,\"brand\":\"cadbury\",\"expiry date\":\"31 jan 2022\"},\n",
        "    1031:{\"name\":\"munch\",\"price\":5,\"quantity\":100,\"brand\":\"nestle\",\"expiry date\":\"31 dec 2021\"}\n",
        "         }\n",
        "   "
      ],
      "execution_count": null,
      "outputs": []
    },
    {
      "cell_type": "code",
      "metadata": {
        "id": "0qe5QutQxIvq"
      },
      "source": [
        "import json\n",
        "js=json.dumps(products)\n",
        "fd=open(\"products.json\",\"w\")\n",
        "fd.write(js)\n",
        "fd.close()\n",
        "\n"
      ],
      "execution_count": null,
      "outputs": []
    },
    {
      "cell_type": "markdown",
      "metadata": {
        "id": "bcYNLjINx8B-"
      },
      "source": [
        "Read Data From JSON\n",
        " "
      ]
    },
    {
      "cell_type": "code",
      "metadata": {
        "id": "a_5h1SozyLsR"
      },
      "source": [
        "fd=open(\"products.json\",'r')\n",
        "r=fd.read()\n",
        "fd.close()"
      ],
      "execution_count": null,
      "outputs": []
    },
    {
      "cell_type": "code",
      "metadata": {
        "colab": {
          "base_uri": "https://localhost:8080/"
        },
        "id": "rjBg9vdjy2aL",
        "outputId": "9d6422e1-ef99-4a10-d439-8256f69e2177"
      },
      "source": [
        "products"
      ],
      "execution_count": 60,
      "outputs": [
        {
          "output_type": "execute_result",
          "data": {
            "text/plain": [
              "{'1001': {'brand': 'amul',\n",
              "  'expiry date': '16 dec 2021',\n",
              "  'name': 'choco cake',\n",
              "  'price': 100,\n",
              "  'quantity': 34},\n",
              " '1002': {'brand': 'amul',\n",
              "  'expiry date': '26 jan 2022',\n",
              "  'name': 'milk cake',\n",
              "  'price': 800,\n",
              "  'quantity': 100},\n",
              " '1003': {'brand': 'coco cola',\n",
              "  'expiry date': '12 june 2022',\n",
              "  'name': 'drink',\n",
              "  'price': 85,\n",
              "  'quantity': 100},\n",
              " '1004': {'brand': 'parle',\n",
              "  'expiry date': '2 dec 2021',\n",
              "  'name': 'candy',\n",
              "  'price': 5,\n",
              "  'quantity': 1000},\n",
              " '1005': {'brand': 'natraj',\n",
              "  'expiry date': '5 june 2023',\n",
              "  'name': 'pen',\n",
              "  'price': 20,\n",
              "  'quantity': 100},\n",
              " '1006': {'brand': 'mi',\n",
              "  'expiry date': '16 may 2035',\n",
              "  'name': 'phone',\n",
              "  'price': 50000,\n",
              "  'quantity': 10},\n",
              " '1007': {'brand': 'alpha',\n",
              "  'expiry date': '26 oct 2028',\n",
              "  'name': 'mic',\n",
              "  'price': 1500,\n",
              "  'quantity': 10},\n",
              " '1008': {'brand': 'one',\n",
              "  'expiry date': '6 nov 2023',\n",
              "  'name': 'case',\n",
              "  'price': 599,\n",
              "  'quantity': 5},\n",
              " '1009': {'brand': 'logitech',\n",
              "  'expiry date': '16 dec 2027',\n",
              "  'name': 'keyboard',\n",
              "  'price': 1999,\n",
              "  'quantity': 10},\n",
              " '1010': {'brand': 'pepsi',\n",
              "  'expiry date': '16 oct 2023',\n",
              "  'name': 'pepsi can',\n",
              "  'price': 150,\n",
              "  'quantity': 50},\n",
              " '1011': {'brand': 'tata',\n",
              "  'expiry date': '11 oct 2021',\n",
              "  'name': 'tata salt',\n",
              "  'price': 20,\n",
              "  'quantity': 130},\n",
              " '1012': {'brand': 'asha',\n",
              "  'expiry date': '10 may 2022',\n",
              "  'name': 'tumeric powder',\n",
              "  'price': 60,\n",
              "  'quantity': 145},\n",
              " '1013': {'brand': 'tata',\n",
              "  'expiry date': '10 dec 2021',\n",
              "  'name': 'tata tea gold',\n",
              "  'price': 50,\n",
              "  'quantity': 145},\n",
              " '1014': {'brand': 'wipro',\n",
              "  'expiry date': '30 dec 2022',\n",
              "  'name': 'oats',\n",
              "  'price': 285,\n",
              "  'quantity': 30},\n",
              " '1015': {'brand': 'safolla',\n",
              "  'expiry date': '29 jan 2023',\n",
              "  'name': 'saffola active',\n",
              "  'price': 207,\n",
              "  'quantity': 58},\n",
              " '1016': {'brand': 'nestle',\n",
              "  'expiry date': '16-10-2022',\n",
              "  'name': 'kitkat',\n",
              "  'price': 55,\n",
              "  'quantity': 59},\n",
              " '1017': {'brand': 'dark fantasy',\n",
              "  'expiry date': '21 feb 2022',\n",
              "  'name': 'choco fills',\n",
              "  'price': 90,\n",
              "  'quantity': 90},\n",
              " '1018': {'brand': 'candyman',\n",
              "  'expiry date': '28 dec 2021',\n",
              "  'name': 'candyman fantasy',\n",
              "  'price': 80,\n",
              "  'quantity': 89},\n",
              " '1019': {'brand': 'lotte',\n",
              "  'expiry date': '1 jan 2022',\n",
              "  'name': 'choco pie',\n",
              "  'price': 110,\n",
              "  'quantity': 95},\n",
              " '1020': {'brand': 'britania',\n",
              "  'expiry date': '15 july 2022',\n",
              "  'name': 'britania cake',\n",
              "  'price': 120,\n",
              "  'quantity': 100},\n",
              " '1021': {'brand': 'pillisbury',\n",
              "  'expiry date': '30 dec 2021',\n",
              "  'name': 'pillisbury cookies',\n",
              "  'price': 80,\n",
              "  'quantity': 90},\n",
              " '1022': {'brand': 'oreo',\n",
              "  'expiry date': '28 dec 2021',\n",
              "  'name': 'oreo soft cake',\n",
              "  'price': 249,\n",
              "  'quantity': 120},\n",
              " '1023': {'brand': 'sunfeast',\n",
              "  'expiry date': '19 dec 2022',\n",
              "  'name': 'cashew',\n",
              "  'price': 80,\n",
              "  'quantity': 180},\n",
              " '1024': {'brand': 'oreo',\n",
              "  'expiry date': '2 jan 2022',\n",
              "  'name': 'oreo chocolate',\n",
              "  'price': 60,\n",
              "  'quantity': 185},\n",
              " '1025': {'brand': 'betty',\n",
              "  'expiry date': '28 jan 2022',\n",
              "  'name': 'pancake',\n",
              "  'price': 346,\n",
              "  'quantity': 190},\n",
              " '1026': {'brand': 'lays',\n",
              "  'expiry date': '28 dec 2021',\n",
              "  'name': 'chips',\n",
              "  'price': 20,\n",
              "  'quantity': 100},\n",
              " '1027': {'brand': 'bingo',\n",
              "  'expiry date': '28 dec 2021',\n",
              "  'name': ' bingo-madangles',\n",
              "  'price': 20,\n",
              "  'quantity': 95},\n",
              " '1028': {'brand': 'kellogs',\n",
              "  'expiry date': '8 nov 2021',\n",
              "  'name': 'pringles',\n",
              "  'price': 85,\n",
              "  'quantity': 40},\n",
              " '1029': {'brand': 'axe',\n",
              "  'expiry date': '31 may 2023',\n",
              "  'name': 'axe-perfume',\n",
              "  'price': 555,\n",
              "  'quantity': 230},\n",
              " '1030': {'brand': 'cadbury',\n",
              "  'expiry date': '31 jan 2022',\n",
              "  'name': 'dairy milk silk',\n",
              "  'price': 475,\n",
              "  'quantity': 50},\n",
              " '1031': {'brand': 'nestle',\n",
              "  'expiry date': '31 dec 2021',\n",
              "  'name': 'munch',\n",
              "  'price': 5,\n",
              "  'quantity': 100},\n",
              " '1032': {'brand': 'Nivea',\n",
              "  'expirydate': '31 july 2022',\n",
              "  'name': 'Nivea men face wash',\n",
              "  'price': 149,\n",
              "  'quantity': 98},\n",
              " '33': {'amount': 240, 'prod': '1018', 'quantity': 3}}"
            ]
          },
          "metadata": {},
          "execution_count": 60
        }
      ]
    },
    {
      "cell_type": "markdown",
      "metadata": {
        "id": "Z7gZBeuq4HPN"
      },
      "source": [
        "Adding new item to the inventory"
      ]
    },
    {
      "cell_type": "code",
      "metadata": {
        "colab": {
          "base_uri": "https://localhost:8080/"
        },
        "id": "OHbbHC0m4ejF",
        "outputId": "77195e79-fde6-49be-cd76-c62794ef1b4b"
      },
      "source": [
        "prod_id=input(\"Enter the Product Id:\")\n",
        "name=input(\"Enter the name of the Product:\")\n",
        "price=int(input(\"Enter the Price per Item:\"))\n",
        "quantity=int(input(\"Enter the Quantity of the poduct :\"))\n",
        "brand=str(input(\"Enter the brand of the Product:\"))\n",
        "expirydate=input(\"Enter the Expiry date of the Product :\")\n",
        "products[prod_id]={\"name\":name,\"price\":price,\"quantity\":quantity,\"brand\":brand,\"expirydate\":expirydate}\n",
        "js=json.dumps(products)\n",
        "fd=open(\"products.json\",'w')\n",
        "fd.write(js)\n",
        "fd.close()"
      ],
      "execution_count": null,
      "outputs": [
        {
          "name": "stdout",
          "output_type": "stream",
          "text": [
            "Enter the Product Id:1032\n",
            "Enter the name of the Product:Nivea men face wash\n",
            "Enter the Price per Item:149\n",
            "Enter the Quantity of the poduct :98\n",
            "Enter the brand of the Product:Nivea\n",
            "Enter the Expiry date of the Product :31 july 2022\n"
          ]
        }
      ]
    },
    {
      "cell_type": "markdown",
      "metadata": {
        "id": "24otjjbzKvvP"
      },
      "source": [
        "Selling Products\n"
      ]
    },
    {
      "cell_type": "code",
      "metadata": {
        "colab": {
          "base_uri": "https://localhost:8080/"
        },
        "id": "mNzR2OOpK8f0",
        "outputId": "c67b4076-ebc0-4b39-f179-7ca2c98ad845"
      },
      "source": [
        "import json\n",
        "fd=open(\"products.json\",'r')\n",
        "r=fd.read()\n",
        "fd.close()\n",
        "products=json.loads(r)\n",
        "print(\"welcome to shop\")\n",
        "ui_prod = input(\"Enter the product_ID:\")\n",
        "ui_quantity = int(input(\"Enter the quantity of the product:\"))\n",
        "for i in products.keys():\n",
        "  while ui_prod == i:\n",
        "    if ui_quantity <= products[i][\"quantity\"]:\n",
        "    \n",
        "      print(\"***********************************************************\")\n",
        "      print(\"                 product:\",products[ui_prod]['name'])\n",
        "      print(\"                   price:\",products[ui_prod]['price'])\n",
        "      print(\"                   brand:\",products[ui_prod]['brand'])\n",
        "      print(\"              expiry date:\",products[ui_prod]['expiry date'])\n",
        "      print(\"***********************************************************\")\n",
        "      print(\"------------------BILLING DETAILS:--------------\")\n",
        "      print(\"Total Amount:\",products[ui_prod]['price']*ui_quantity)\n",
        "      print(\"Enjoy Your Day\")\n",
        "      print(\"Thank you .Visit Again\")\n",
        "      print(\"***********************************************************\")\n",
        "      products[ui_prod][\"quantity\"]= products[ui_prod][\"quantity\"]-ui_quantity\n",
        "    else:\n",
        "      print(\"sorry. stock of product you entered is: \",products[ui_prod]['quantity'],\"\\nplease accept our apologies for this inconvenience\")\n",
        "    break \n",
        "if ui_prod not in products.keys():\n",
        "  print(\"sorry. No product found for ID: \",ui_prod,\"\\please enter valid product ID\")\n",
        "js=json.dumps(products)\n",
        "fd=open(\"products.json\",'w')\n",
        "fd.write(js)\n",
        "fd.close()\n",
        "##  the sold items information is stored on sales.json\n",
        "fd=open(\"products.json\",'r')\n",
        "trans=fd.read()\n",
        "fd.close()\n",
        "sales=json.loads(trans)\n",
        "num=len(sales)+1\n",
        "sales[num]={'prod':ui_prod,'quantity':ui_quantity,'amount':products[ui_prod]['price']*ui_quantity}\n",
        "sale=json.dumps(sales)\n",
        "fd=open(\"products.json\",'w')\n",
        "r=fd.write(sale)\n",
        "fd.close()\n",
        "\n"
      ],
      "execution_count": null,
      "outputs": [
        {
          "output_type": "stream",
          "name": "stdout",
          "text": [
            "welcome to shop\n"
          ]
        }
      ]
    },
    {
      "cell_type": "code",
      "metadata": {
        "id": "Ea-ZWI8BaArP"
      },
      "source": [
        "products"
      ],
      "execution_count": null,
      "outputs": []
    },
    {
      "cell_type": "markdown",
      "metadata": {
        "id": "AmCh-w6waNAf"
      },
      "source": [
        "Update Inventory after products sold"
      ]
    },
    {
      "cell_type": "code",
      "metadata": {
        "id": "4k_HJtH0aU1Q"
      },
      "source": [
        "sales = {1 : {'prod':ui_prod, 'quantity':ui_quantity,'amount':products[ui_prod]['price']*ui_quantity}}\n",
        "sal=json.dumps(sales)\n",
        "fd=open(\"sales.json\",'w')\n",
        "fd.write(sal)\n",
        "fd.close()  \n"
      ],
      "execution_count": 54,
      "outputs": []
    },
    {
      "cell_type": "code",
      "metadata": {
        "id": "aPfujI_peCgM"
      },
      "source": [
        "sales = {2 : {'prod':ui_prod, 'quantity':ui_quantity,'amount':products[ui_prod]['price']*ui_quantity}}\n",
        "sal=json.dumps(sales)\n",
        "fd=open(\"sales.json\",'w')\n",
        "fd.write(sal)\n",
        "fd.close()  "
      ],
      "execution_count": 56,
      "outputs": []
    }
  ]
}